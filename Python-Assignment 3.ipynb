{
 "cells": [
  {
   "cell_type": "code",
   "execution_count": null,
   "metadata": {},
   "outputs": [],
   "source": [
    "1.Why are functions advantageous to have in your programs?\n",
    "Ans-Functions reduce the need for duplicate code. This makes program shorter, easier to read\n",
    "        and easier to update. \n",
    "\n",
    "2. When does the code in a function run: when it's specified or when it's called?\n",
    "Ans-The code in a function executes when the function is called, not when the function is defined.\n",
    "\n",
    "3. What statement creates a function?\n",
    "Ans-The def statement defines a function.\n",
    "\n",
    "4. What is the difference between a function and a function call?\n",
    "Ans- A function consists of the def statement and the code in its def clause.\n",
    "          A function call is what moves the program execution into the function and the function call \n",
    "          evaluates to the function’s return value.   \n",
    "\n",
    "5. How many global scopes are there in a Python program? How many local scopes?\n",
    "Ans- There is one global scope and a local scope is created whenever a function is called.\n",
    "\n",
    "6. What happens to variables in a local scope when the function call returns?\n",
    "Ans- When a function returns the local scope is destroyed and all the variables in it are forgotten.\n",
    " \n",
    "7. What is the concept of a return value? Is it possible to have a return value in an expression?\n",
    "Ans- A return value is the value that a function call evaluates to like any value a return value can be \n",
    "         Used as part of an expression.\n",
    "\n",
    "8. If a function does not have a return statement, what is the return value of a call to that function?\n",
    "Ans- If there is no return statement for a function its return value is None.\n",
    "\n",
    "9. How do you make a function variable refer to the global variable?\n",
    "Ans-A global statement will force a variable in function to refer to the global variable.\n",
    "\n",
    "10. What is the data type of None?\n",
    "Ans-The data type of None is None Type.\n",
    "\n",
    "11. What does the sentence import areallyourpetsnamederic do?\n",
    "Ans- That import statement imports a module named areallyourpetsnamederic.\n",
    "\n",
    "12. If you had a bacon () feature in a spam module, what would you call it after importing spam?\n",
    "Ans- This function can be called with spam.bacon().\n",
    "\n",
    "13. What can you do to save a programme from crashing if it encounters an error?\n",
    "Ans-Place the line of code that might cause an error in a try clause.\n",
    "\n",
    "14. What is the purpose of the try clause? What is the purpose of the except clause?\n",
    "Ans- The code that could potentially cause an error goes in try clause.\n",
    "     The code that executes if an error happens goes in the except clause.\n"
   ]
  }
 ],
 "metadata": {
  "kernelspec": {
   "display_name": "Python 3",
   "language": "python",
   "name": "python3"
  },
  "language_info": {
   "codemirror_mode": {
    "name": "ipython",
    "version": 3
   },
   "file_extension": ".py",
   "mimetype": "text/x-python",
   "name": "python",
   "nbconvert_exporter": "python",
   "pygments_lexer": "ipython3",
   "version": "3.8.3"
  }
 },
 "nbformat": 4,
 "nbformat_minor": 4
}
