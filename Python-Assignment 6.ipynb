{
 "cells": [
  {
   "cell_type": "code",
   "execution_count": null,
   "metadata": {},
   "outputs": [],
   "source": [
    "1. What are escape characters, and how do you use them?\n",
    "Ans- Escape characters represent characters in string values that would otherwise be difficult or \n",
    "         impossible to type into code.\n",
    "\n",
    "2. What do the escape characters n and t stand for?\n",
    "Ans- \\n is a newline; \\t is tab.\n",
    "\n",
    "3. What is the way to include backslash characters in a string?\n",
    "Ans- The \\\\ escape character will represent a backslash character.\n",
    "\n",
    "4. The string \"Howl's Moving Castle\" is a correct value. Why isn't the single quote character in the word Howl's not escaped a problem?\n",
    "Ans- The single quote in Howl’s is fine because you’ve used double quotes to mark the beginning and\n",
    "          end of the string.\n",
    "\n",
    "5. How do you write a string of newlines if you don't want to use the n character?\n",
    "Ans- Multiline strings allow you to use newlines in strings without the \\n escape character.\n",
    "\n",
    "6. What are the values of the given expressions?\n",
    "'Hello, world!'[1]\n",
    "'Hello, world!'[0:5]\n",
    "'Hello, world!'[:5]\n",
    "'Hello, world!'[3:]\n",
    "Ans- ‘e’\n",
    "         ‘Hello’\n",
    "         ‘Hello’\n",
    "         ‘lo world’\n",
    "\n",
    "7. What are the values of the following expressions?\n",
    "'Hello'.upper()\n",
    "'Hello'.upper().isupper()\n",
    "'Hello'.upper().lower()\n",
    "Ans- ‘HELLO’\n",
    "         True\n",
    "         ‘hello’\n",
    "\n",
    "8. What are the values of the following expressions?\n",
    "'Remember, remember, the fifth of July.'.split()\n",
    "'-'.join('There can only one.'.split())\n",
    "Ans- The expressions evaluate to the following:\n",
    "          [‘Remember,’’remember,’,’the’,’fifth’,’of’,’November’]\n",
    "           ‘There-can-be-only-one’\n",
    "\n",
    "9. What are the methods for right-justifying, left-justifying, and centering a string?\n",
    "Ans- The rjust(), ljust(), and center() string methods, respectively.\n",
    "\n",
    "10. What is the best way to remove whitespace characters from the start or end?\n",
    "Ans- The lstrip() and rstrip() methods remove whitespace from the left ends of a string, respectively.\n",
    "\n"
   ]
  }
 ],
 "metadata": {
  "kernelspec": {
   "display_name": "Python 3",
   "language": "python",
   "name": "python3"
  }
 },
 "nbformat": 4,
 "nbformat_minor": 4
}
