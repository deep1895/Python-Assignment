{
 "cells": [
  {
   "cell_type": "code",
   "execution_count": null,
   "metadata": {},
   "outputs": [],
   "source": [
    "1. To what does a relative path refer?\n",
    "Ans- Relative paths are relative to the current working directory.\n",
    "\n",
    "2. What does an absolute path start with your operating system?\n",
    "Ans- Absolute paths start with the root folder, such as / or C:\\.\n",
    "\n",
    "3. What do the functions os.getcwd() and os.chdir() do?\n",
    "Ans- The os.getcwd() function returns the current working directory. The os.chdir() function\n",
    "          Changes current working directory.\n",
    "\n",
    "4. What are the . and .. folders?\n",
    "Ans- The. folder is the current folder, and ... is the parent folder.\n",
    "\n",
    "5. In C:\\bacon\\eggs\\spam.txt, which part is the dir name, and which part is the base name?\n",
    "Ans- C:\\bacon\\eggs is the dir name, while spam.txt is the base name.\n",
    "\n",
    "6. What are the three “mode” arguments that can be passed to the open () function?\n",
    "Ans- The string ‘r’ for read mode, ‘w’ for write mode, and ‘a’ for append mode.\n",
    "\n",
    "7. What happens if an existing file is opened in write mode?\n",
    "Ans- An existing file opened in write mode is erased and completely overwritten.\n",
    " \n",
    "8. How do you tell the difference between read() and readlines()?\n",
    "Ans- The read() method returns the file’s entire contents as a single string value. \n",
    "          The readlines() method returns a list of strings, where each string is a list from the file’s \n",
    "          contents.\n",
    "\n",
    "9. What data structure does a shelf value resemble?\n",
    "Ans- A self-value resembles a dictionary value; it has keys and values, along with keys() and values()\n",
    "          methods that work similarly to the dictionary methods of the same names.\n"
   ]
  }
 ],
 "metadata": {
  "kernelspec": {
   "display_name": "Python 3",
   "language": "python",
   "name": "python3"
  }
 },
 "nbformat": 4,
 "nbformat_minor": 4
}
