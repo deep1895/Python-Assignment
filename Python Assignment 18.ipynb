{
 "cells": [
  {
   "cell_type": "code",
   "execution_count": null,
   "metadata": {},
   "outputs": [],
   "source": [
    "1. Create a zoo.py file first. Define the hours () function, which prints the string 'Open 9-5 daily'. Then, use the interactive interpreter to import the zoo module and call its hours () function.\n",
    "Ans- def hours ():\n",
    "                 print (‘Open 9-5 daily’)\n",
    "         \n",
    "       And now, let’s import it interactively:\n",
    "          >>> import zoo\n",
    "          >>> zoo. hours ()\n",
    "          Open 9-5 daily\n",
    "\n",
    "2. In the interactive interpreter, import the zoo module as menagerie and call its hours() function.\n",
    "Ans-  >>> import zoo as menagerie\n",
    "          >>> menagerie.hours()\n",
    "          Open 9-5 daily\n",
    "\n",
    "3. Using the interpreter, explicitly import and call the hours() function from zoo.\n",
    "Ans-  >>> from zoo import hours\n",
    "          >>> hours()\n",
    "          Open 9-5 daily \n",
    "\n",
    "4. Import the hours() function as info and call it.\n",
    "Ans-  >>> from zoo import hours as info\n",
    "          >>> info()\n",
    "          Open 9-5 daily\n",
    "\n",
    "5. Create a plain dictionary with the key-value pairs 'a': 1, 'b': 2, and 'c': 3, and print it out.\n",
    "Ans- >>> plain = {‘a’ : 1, ’b’ : 2, ’c’ : 3}\n",
    "         >>> plain\n",
    "         {‘a’ : 1, ‘c’ : 3, ‘b’ : 2}\n",
    "\n",
    "6.Make an OrderedDict called fancy from the same pairs listed in 5 and print it. Did it print in the same order as plain?\n",
    "Ans-  >>> from collections import OrderedDict\n",
    "          >>> fancy = OrderedDict([(‘a ’, 1), (‘b ’, 2), (‘c ’, 3)])\n",
    "          >>> fancy\n",
    "         OrderedDict([(‘a ’, 1), (‘b ’, 2), (‘c ’, 3)])\n",
    " \n",
    "7. Make a default dictionary called dict_of_lists and pass it the argument list. Make the list dict_of_lists['a'] and append the value 'something for a' to it in one assignment. Print dict_of_lists['a'].\n",
    "Ans-  >>> from collections import defaultdict\n",
    "          >>> dict_of_lists = defaultdict(list)\n",
    "          >>> dict_of_lists[‘a’].append(‘ something for a’)\n",
    "          >>> dict_of_lists[‘a’]\n",
    "         [‘ something  for  a’ ]  \n"
   ]
  }
 ],
 "metadata": {
  "kernelspec": {
   "display_name": "Python 3",
   "language": "python",
   "name": "python3"
  }
 },
 "nbformat": 4,
 "nbformat_minor": 4
}
