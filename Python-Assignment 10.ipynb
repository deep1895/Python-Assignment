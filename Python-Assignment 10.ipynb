{
 "cells": [
  {
   "cell_type": "code",
   "execution_count": null,
   "metadata": {},
   "outputs": [],
   "source": [
    "1. How do you distinguish between shutil.copy() and shutil.copytree()?\n",
    "Ans-The shutil.copy() function will copy a single file, while shutil.copytree() will copy an\n",
    "         Entire folder, along with all its contents.\n",
    "\n",
    "2. What function is used to rename files??\n",
    "Ans-The shutil.move() function is used for remaining files, as well as moving them.\n",
    "\n",
    "3. What is the difference between the delete functions in the send2trash and shutil modules?\n",
    "Ans- The send2trash functions will move a file or folder to the recycle bin, while shutil functions will \n",
    "         permanently delete files and folders.\n",
    "\n",
    "4. ZipFile objects have a close() method just like File objects’ close() method. What ZipFile method is equivalent to File objects’ open() method?\n",
    "Ans- The zipfile.ZipFile() function is equivalent to the open() function; the first argument is the \n",
    "         Filename, and the second argument is the mode to open the ZIP file in (read, write or\n",
    "          append).\n",
    "\n",
    "5. Create a programme that searches a folder tree for files with a certain file extension (such as .pdf or .jpg). Copy these files from whatever location they are in to a new folder.\n",
    "Ans- \n",
    "               import os, shutil\n",
    "               \n",
    "               def selectiveCopy (folder, extensions, destFolder):\n",
    "                              folder = os.path.abspath(folder)\n",
    "                              destFolder = os.path.abspath(destFolder)\n",
    "                              print ('Looking in', folder, 'for files with extensions of’, ‘,’, join(extensions))\n",
    "                              for foldername, subfolders, filenames in os.walk(folder):\n",
    "                                            for filename in filenames:\n",
    "                                                        name, extension = os.path.splitext(filename)\n",
    "                                                         if extension in extensions:\n",
    "                                                                       fileAbsPath = foldername + os.path.sep + filename\n",
    "                                                                       print (‘Coping’, fileAbsPath, ‘to’, destFolder)\n",
    "               extensions = [‘. php’, ‘.py’]\n",
    "               folder = ‘randomFolder’\n",
    "               destFolder = ‘selectiveFolder’\n",
    "               selectiveCopy (folder, extensions, destFolder)\n"
   ]
  }
 ],
 "metadata": {
  "kernelspec": {
   "display_name": "Python 3",
   "language": "python",
   "name": "python3"
  }
 },
 "nbformat": 4,
 "nbformat_minor": 4
}
