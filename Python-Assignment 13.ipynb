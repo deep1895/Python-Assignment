{
 "cells": [
  {
   "cell_type": "code",
   "execution_count": null,
   "metadata": {},
   "outputs": [],
   "source": [
    "1. What advantages do Excel spreadsheets have over CSV spreadsheets?\n",
    "Ans- In Excel, spreadsheets can have values of data types other than strings; cell can have\n",
    "         varying widths and heights; adjacent cells can be merged; and you can embed images and \n",
    "         charts.\n",
    " \n",
    "2.What do you pass to csv.reader() and csv.writer() to create reader and writer objects?\n",
    "Ans- You pass a File object, obtained from a call to open().\n",
    "\n",
    "3. What modes do File objects for reader and writer objects need to be opened in?\n",
    "Ans- File objects need to be opened in read-binary(‘rb’) for Reader objects and write-binary(‘wb’)\n",
    "         for Writer objects.\n",
    "\n",
    "4. What method takes a list argument and writes it to a CSV file?\n",
    "Ans- The writerow() method\n",
    "\n",
    "5. What do the keyword arguments delimiter and line terminator do?\n",
    "Ans- The delimiter argument changes the string used to separate cells in a row.\n",
    "          The lineterminator argument changes the string used to separate rows.\n",
    "\n",
    "6. What function takes a string of JSON data and returns a Python data structure?\n",
    "Ans- json.loads()\n",
    "\n",
    "7. What function takes a Python data structure and returns a string of JSON data?\n",
    "Ans- json.dumps()\n",
    "\n"
   ]
  }
 ],
 "metadata": {
  "kernelspec": {
   "display_name": "Python 3",
   "language": "python",
   "name": "python3"
  }
 },
 "nbformat": 4,
 "nbformat_minor": 4
}
